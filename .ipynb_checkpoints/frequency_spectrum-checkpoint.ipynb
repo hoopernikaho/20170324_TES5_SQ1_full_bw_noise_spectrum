{
 "cells": [
  {
   "cell_type": "markdown",
   "metadata": {
    "deletable": true,
    "editable": true
   },
   "source": [
    "Follow up from previously acquired data: /workspace/projects/TES/data/20170316_SQUID1_bandwidth_characterisation\n",
    "We found that under the conditions 155 mK, Ibias = 300 uA, GBWP = Max, Rf = 100 kOhm, Input Flux Termination @ FLL = Unknown, FLL mode, we had a bandwidth of 1.7 MHz, that explained the ~170 ns pulse rise time.\n",
    "Antia reported ~25 ns rise time with open loop amplifiers.\n",
    "Reducing Rf to 30 kOhm resulted in too low SNR.\n",
    "\n",
    "We would like to investigate the source of noise in the system, with the hope of running our amplifiers with a lower Rf, thereby increasing the bandwidth, reducing the rise time.\n",
    "\n",
    "First, we calculate the expected Johnson noise when the system is driven to a conducting state at 80 mK, 125 uA (Jan Dreyling-Eschweiler p.96). This decouples the TES from the SQUID input - arguable since the impedance change will only be 50%...\n",
    "    Then, we calculate the current noise at this operating point, which will also contribute to overall noise.\n",
    "    This determines the input spectrum to the SQUID.\n",
    "    Thereafter, we drive the TES superconducting (125 uA), then conducting (0uA), and compare the noise spectrum collected.\n",
    "    IV Curves are included to prove that 125uA are sufficient to drive the TES conducting at 125uA.\n",
    "    \n",
    "Second, we send a nominal operating current 110 uA, which was verified to have a good SNR.\n",
    "    Then, we change the gain of the system by adjusting Rf, keeping the GBWP constant. This should increase the bandwidth and the noise. \n",
    "    We verify if the bw increased by comparing the f-3db cutoff frequency."
   ]
  },
  {
   "cell_type": "code",
   "execution_count": 1,
   "metadata": {
    "collapsed": false,
    "deletable": true,
    "editable": true
   },
   "outputs": [],
   "source": [
    "import numpy as np\n",
    "import matplotlib.pyplot as plt\n",
    "%matplotlib inline"
   ]
  },
  {
   "cell_type": "markdown",
   "metadata": {
    "deletable": true,
    "editable": true
   },
   "source": [
    "## Noise Comparison between Superconducting and Conducting Operation"
   ]
  },
  {
   "cell_type": "code",
   "execution_count": 2,
   "metadata": {
    "collapsed": false,
    "deletable": true,
    "editable": true
   },
   "outputs": [],
   "source": [
    "SupCond_Noise = np.loadtxt('/workspace/projects/TES/analysis/20170324_TES5_SQ1_full_bw_noise_spectrum/superconducting_vs_conducting_noise_spectrums/0uArbw30khzvbw300khz10avg.txt', skiprows=46)\n",
    "Cond_Noise = np.loadtxt('/workspace/projects/TES/analysis/20170324_TES5_SQ1_full_bw_noise_spectrum/superconducting_vs_conducting_noise_spectrums/125uArbw30khzvbw300khz10avg.txt', skiprows=46)"
   ]
  },
  {
   "cell_type": "code",
   "execution_count": null,
   "metadata": {
    "collapsed": false,
    "deletable": true,
    "editable": true
   },
   "outputs": [],
   "source": [
    "def voltage_spectrum_from_density_spectrum(bins, density):\n",
    "    \"\"\"invert dBm equation to obtain voltage across 50 Ohm R&S\"\"\"\n",
    "    pass \n",
    "\n",
    "def iTES_from_vOut():\n",
    "    \"\"\"converts voltage output \"\"\"\n",
    "    pass\n",
    "\n",
    "def density_spectrum(noise_array):\n",
    "    \"\"\"returns the noise density in dBm\"\"\"\n",
    "    bins = noise_array[:,0]\n",
    "    bin_size = bins[1]-bins[0]\n",
    "    density = noise_array[:,1]/bin_size\n",
    "    return bins, density\n",
    "\n",
    "def f3dB(noise_array, plot=False):\n",
    "    \"\"\"finds and plots 3dB-cuttoff frequency\"\"\"\n",
    "    bins, density = density_spectrum(noise_array)\n",
    "    mask=(bins>10e5)&(bins<10e6)\n",
    "    bins = bins[mask]; density=density[mask]\n",
    "    max_density = np.max(density)\n",
    "    median_density = np.median(density[density<max_density/2]) #estimates the density before 3dB falloff\n",
    "    def find_idx(array,value):\n",
    "        \"\"\"finds index of array closest to value\"\"\"\n",
    "        return np.argmin(np.abs(array-value))\n",
    "    density_at_f3dB = median_density/2\n",
    "    f3dB = bins[find_idx(density,density_at_f3dB)]\n",
    "    if plot:\n",
    "        def quick_hor(value,label):\n",
    "            \"\"\"plots horizontal level\"\"\"\n",
    "            ax = plt.gca()\n",
    "            ylims = ax.get_ylim()\n",
    "            plt.hlines(value,*ylims,label=label,linestyle='--')\n",
    "        def quick_vert(value,label):\n",
    "            \"\"\"plots vertical level\"\"\"\n",
    "            ax = plt.gca()\n",
    "            xlims = ax.get_xlim()\n",
    "            plt.vlines(value,*xlims,label=label,linestyle='--')\n",
    "    quick_hor(density_at_f3dB, 'half power')\n",
    "    quick_vert(f3dB, 'f3dB')\n",
    "    return f3dB, density_at_f3dB  "
   ]
  },
  {
   "cell_type": "code",
   "execution_count": null,
   "metadata": {
    "collapsed": false,
    "deletable": true,
    "editable": true
   },
   "outputs": [],
   "source": [
    "plt.figure(figsize=(9,6))\n",
    "plt.plot(*density_spectrum(SupCond_Noise), label='SupCond_Noise, iBias=0uA',linestyle='--')\n",
    "plt.plot(*density_spectrum(Cond_Noise), label='Cond_Noise, iBias=125uA')\n",
    "plt.semilogx()\n",
    "plt.xlabel('Frequency (Hz)')\n",
    "plt.ylabel('Power Spectral Density (dBm/Hz)')\n",
    "plt.ylim(-0.005,-0.0035)\n",
    "plt.xlim(100e3,1e7) #R&S FSH8 only operates 100kHz onwards\n",
    "print('{}'.format(f3dB(SupCond_Noise,plot=True)))\n",
    "plt.legend()\n",
    "plt.tight_layout\n",
    "plt.savefig('superconducting_vs_conducting_noise.pdf')\n",
    "plt.show()"
   ]
  },
  {
   "cell_type": "markdown",
   "metadata": {
    "deletable": true,
    "editable": true
   },
   "source": [
    "## IV Curve of SQUID 1"
   ]
  },
  {
   "cell_type": "code",
   "execution_count": null,
   "metadata": {
    "collapsed": true,
    "deletable": true,
    "editable": true
   },
   "outputs": [],
   "source": []
  },
  {
   "cell_type": "markdown",
   "metadata": {
    "deletable": true,
    "editable": true
   },
   "source": [
    "## Bandwidth Comparison of TES 5, SQUID 1, with different feedback resistances"
   ]
  },
  {
   "cell_type": "markdown",
   "metadata": {
    "deletable": true,
    "editable": true
   },
   "source": [
    "TES bias = 104 uA, T = 80 mK corresponding to good single photon signal to noise ratio.\n",
    "Input Flux Termination @ FLL = OFF\n",
    "SQUID Gain = Positive"
   ]
  },
  {
   "cell_type": "code",
   "execution_count": null,
   "metadata": {
    "collapsed": false,
    "deletable": true,
    "editable": true
   },
   "outputs": [],
   "source": [
    "import glob\n",
    "folder = './various_RFeedback_vs_GBP_ratios_noise_spectrums_IBias_104uA_80mK/'\n",
    "plt.figure('Various Rf vs GBP')\n",
    "plt.figure(figsize=(9,6))\n",
    "for f in glob.glob(folder+'*.txt'):\n",
    "    plt.plot(\n",
    "        *density_spectrum(np.loadtxt(f,skiprows=46)),\n",
    "        label=f.split('/')[-1]\n",
    "    )\n",
    "plt.semilogx()\n",
    "plt.xlabel('Frequency (Hz)')\n",
    "plt.ylabel('Power Spectral Density (dBm/Hz)')\n",
    "plt.ylim(-0.006,-0.0035)\n",
    "plt.xlim(100e3,) #R&S FSH8 only operates 100kHz onwards\n",
    "plt.legend()\n",
    "plt.tight_layout"
   ]
  },
  {
   "cell_type": "code",
   "execution_count": null,
   "metadata": {
    "collapsed": true,
    "deletable": true,
    "editable": true
   },
   "outputs": [],
   "source": []
  }
 ],
 "metadata": {
  "kernelspec": {
   "display_name": "Python 3",
   "language": "python",
   "name": "python3"
  },
  "language_info": {
   "codemirror_mode": {
    "name": "ipython",
    "version": 3
   },
   "file_extension": ".py",
   "mimetype": "text/x-python",
   "name": "python",
   "nbconvert_exporter": "python",
   "pygments_lexer": "ipython3",
   "version": "3.5.2"
  }
 },
 "nbformat": 4,
 "nbformat_minor": 2
}
