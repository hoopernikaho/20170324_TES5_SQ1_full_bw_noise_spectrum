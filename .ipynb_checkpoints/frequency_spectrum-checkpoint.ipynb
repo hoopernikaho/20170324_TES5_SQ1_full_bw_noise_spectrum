{
 "cells": [
  {
   "cell_type": "markdown",
   "metadata": {},
   "source": [
    "Follow up from previously acquired data: /workspace/projects/TES/data/20170316_SQUID1_bandwidth_characterisation\n",
    "We found that under the conditions 155 mK, Ibias = 300 uA, GBWP = Max, Rf = 100 kOhm, Input Flux Termination @ FLL = Unknown, FLL mode, we had a bandwidth of 1.7 MHz, that explained the ~170 ns pulse rise time.\n",
    "Antia reported ~25 ns rise time with open loop amplifiers.\n",
    "Reducing Rf to 30 kOhm resulted in too low SNR.\n",
    "\n",
    "We would like to investigate the source of noise in the system, with the hope of running our amplifiers with a lower Rf, thereby increasing the bandwidth, reducing the rise time.\n",
    "\n",
    "First, we calculate the expected Johnson noise when the system is driven to a conducting state at 80 mK, 125 uA (Jan Dreyling-Eschweiler p.96). This decouples the TES from the SQUID input - arguable since the impedance change will only be 50%...\n",
    "    Then, we calculate the current noise at this operating point, which will also contribute to overall noise.\n",
    "    This determines the input spectrum to the SQUID.\n",
    "    Thereafter, we drive the TES superconducting (125 uA), then conducting (0uA), and compare the noise spectrum collected.\n",
    "    IV Curves are included to prove that 125uA are sufficient to drive the TES conducting at 125uA.\n",
    "    \n",
    "Second, we send a nominal operating current 110 uA, which was verified to have a good SNR.\n",
    "    Then, we change the gain of the system by adjusting Rf, keeping the GBWP constant. This should increase the bandwidth and the noise. \n",
    "    We verify if the bw increased by comparing the f-3db cutoff frequency."
   ]
  },
  {
   "cell_type": "code",
   "execution_count": 10,
   "metadata": {
    "collapsed": false
   },
   "outputs": [],
   "source": [
    "import numpy as np\n",
    "import matplotlib.pyplot as plt\n",
    "%matplotlib inline"
   ]
  },
  {
   "cell_type": "markdown",
   "metadata": {},
   "source": [
    "## Noise Comparison between Superconducting and Conducting Operation"
   ]
  },
  {
   "cell_type": "code",
   "execution_count": 9,
   "metadata": {
    "collapsed": false
   },
   "outputs": [],
   "source": [
    "SupCond_Noise = np.loadtxt('/workspace/projects/TES/analysis/20170324_TES5_SQ1_full_bw_noise_spectrum/superconducting_vs_conducting_noise_spectrums/0uArbw30khzvbw300khz10avg.txt', skiprows=46)\n",
    "Cond_Noise = np.loadtxt('/workspace/projects/TES/analysis/20170324_TES5_SQ1_full_bw_noise_spectrum/superconducting_vs_conducting_noise_spectrums/125uArbw30khzvbw300khz10avg.txt', skiprows=46)"
   ]
  },
  {
   "cell_type": "code",
   "execution_count": 16,
   "metadata": {
    "collapsed": false
   },
   "outputs": [],
   "source": [
    "def voltage_spectrum_from_density_spectrum(bins, density):\n",
    "    \"\"\"invert dBm equation to obtain voltage across 50 Ohm R&S\"\"\"\n",
    "    pass \n",
    "\n",
    "def iTES_from_vOut():\n",
    "    \"\"\"converts voltage output \"\"\"\n",
    "    pass\n",
    "\n",
    "def density_spectrum(noise_array):\n",
    "    \"\"\"returns the noise density in dBm\"\"\"\n",
    "    bins = noise_array[:,0]\n",
    "    bin_size = bins[1]-bins[0]\n",
    "    density = noise_array[:,1]/bin_size\n",
    "    return bins, density"
   ]
  },
  {
   "cell_type": "code",
   "execution_count": 20,
   "metadata": {
    "collapsed": false
   },
   "outputs": [
    {
     "ename": "NameError",
     "evalue": "name 'figsize' is not defined",
     "output_type": "error",
     "traceback": [
      "\u001b[0;31m---------------------------------------------------------------------------\u001b[0m",
      "\u001b[0;31mNameError\u001b[0m                                 Traceback (most recent call last)",
      "\u001b[0;32m<ipython-input-20-cf500744efda>\u001b[0m in \u001b[0;36m<module>\u001b[0;34m()\u001b[0m\n\u001b[0;32m----> 1\u001b[0;31m \u001b[0mplt\u001b[0m\u001b[0;34m.\u001b[0m\u001b[0mfigure\u001b[0m\u001b[0;34m(\u001b[0m\u001b[0mfigsize\u001b[0m\u001b[0;34m(\u001b[0m\u001b[0;36m5\u001b[0m\u001b[0;34m,\u001b[0m\u001b[0;36m4\u001b[0m\u001b[0;34m)\u001b[0m\u001b[0;34m)\u001b[0m\u001b[0;34m\u001b[0m\u001b[0m\n\u001b[0m\u001b[1;32m      2\u001b[0m \u001b[0mplt\u001b[0m\u001b[0;34m.\u001b[0m\u001b[0mplot\u001b[0m\u001b[0;34m(\u001b[0m\u001b[0;34m*\u001b[0m\u001b[0mdensity_spectrum\u001b[0m\u001b[0;34m(\u001b[0m\u001b[0mSupCond_Noise\u001b[0m\u001b[0;34m)\u001b[0m\u001b[0;34m,\u001b[0m \u001b[0mlabel\u001b[0m\u001b[0;34m=\u001b[0m\u001b[0;34m'SupCond_Noise, iBias=0uA'\u001b[0m\u001b[0;34m,\u001b[0m\u001b[0mlinestyle\u001b[0m\u001b[0;34m=\u001b[0m\u001b[0;34m'--'\u001b[0m\u001b[0;34m)\u001b[0m\u001b[0;34m\u001b[0m\u001b[0m\n\u001b[1;32m      3\u001b[0m \u001b[0mplt\u001b[0m\u001b[0;34m.\u001b[0m\u001b[0mplot\u001b[0m\u001b[0;34m(\u001b[0m\u001b[0;34m*\u001b[0m\u001b[0mdensity_spectrum\u001b[0m\u001b[0;34m(\u001b[0m\u001b[0mCond_Noise\u001b[0m\u001b[0;34m)\u001b[0m\u001b[0;34m,\u001b[0m \u001b[0mlabel\u001b[0m\u001b[0;34m=\u001b[0m\u001b[0;34m'Cond_Noise, iBias=125uA'\u001b[0m\u001b[0;34m)\u001b[0m\u001b[0;34m\u001b[0m\u001b[0m\n\u001b[1;32m      4\u001b[0m \u001b[0mplt\u001b[0m\u001b[0;34m.\u001b[0m\u001b[0msemilogx\u001b[0m\u001b[0;34m(\u001b[0m\u001b[0;34m)\u001b[0m\u001b[0;34m\u001b[0m\u001b[0m\n\u001b[1;32m      5\u001b[0m \u001b[0mplt\u001b[0m\u001b[0;34m.\u001b[0m\u001b[0mxlabel\u001b[0m\u001b[0;34m(\u001b[0m\u001b[0;34m'Frequency (Hz)'\u001b[0m\u001b[0;34m)\u001b[0m\u001b[0;34m\u001b[0m\u001b[0m\n",
      "\u001b[0;31mNameError\u001b[0m: name 'figsize' is not defined"
     ]
    }
   ],
   "source": [
    "plt.figure(figsize=(5,4))\n",
    "plt.plot(*density_spectrum(SupCond_Noise), label='SupCond_Noise, iBias=0uA',linestyle='--')\n",
    "plt.plot(*density_spectrum(Cond_Noise), label='Cond_Noise, iBias=125uA')\n",
    "plt.semilogx()\n",
    "plt.xlabel('Frequency (Hz)')\n",
    "plt.ylabel('Power (dBm)')\n",
    "plt.ylim(-0.005,-0.0035)\n",
    "plt.xlim(100e3,1e7) #R&S FSH8 only operates 100kHz onwards\n",
    "plt.legend()\n",
    "plt.tight_layout\n",
    "plt.savefig('superconducting_vs_conducting_noise.pdf')"
   ]
  },
  {
   "cell_type": "markdown",
   "metadata": {},
   "source": []
  }
 ],
 "metadata": {
  "kernelspec": {
   "display_name": "Python 3",
   "language": "python",
   "name": "python3"
  },
  "language_info": {
   "codemirror_mode": {
    "name": "ipython",
    "version": 3
   },
   "file_extension": ".py",
   "mimetype": "text/x-python",
   "name": "python",
   "nbconvert_exporter": "python",
   "pygments_lexer": "ipython3",
   "version": "3.5.2"
  }
 },
 "nbformat": 4,
 "nbformat_minor": 2
}
